{
 "cells": [
  {
   "cell_type": "markdown",
   "metadata": {},
   "source": [
    "## 1. Model an organisation of employees, management and board of directors in 3 sets.\n",
    "----\n",
    "Board of directors: Benny, Hans, Tine, Mille, Torben, Troels, Søren\n",
    "\n",
    "Management: Tine, Trunte, Rane\n",
    "\n",
    "Employees: Niels, Anna, Tine, Ole, Trunte, Bent, Rane, Allan, Stine, Claus, James, Lars\n",
    "\n",
    "who in the board of directors is not an employee?\n",
    "who in the board of directors is also an employee?\n",
    "how many of the management is also member of the board?\n",
    "All members of the managent also an employee\n",
    "All members of the management also in the board?\n",
    "Who is an employee, member of the management, and a member of the board?\n",
    "Who of the employee is neither a memeber or the board or management?"
   ]
  },
  {
   "cell_type": "code",
   "execution_count": 129,
   "metadata": {},
   "outputs": [
    {
     "name": "stdout",
     "output_type": "stream",
     "text": [
      "Who in the board of directors is not an employee? {'Torben', 'Hans', 'Mille', 'Søren', 'Benny', 'Troels'}\n",
      "Who is both a member of the board of directors and an employee? {'Tine'}\n",
      "How many of the management is also member of the board?,  {'Tine'}\n",
      "All members of the management also an employee? True\n",
      "All members of the management also in the board? False\n",
      "Who is an employee, member of the management, and a member of the board? {'Tine'}\n",
      "Who of the employee is neither a memeber or the board or management? {'Ole', 'Lars', 'Anna', 'Allan', 'Niels', 'James', 'Stine', 'Bent', 'Claus'}\n"
     ]
    }
   ],
   "source": [
    "board_of_directors = {\"Benny\", \"Hans\", \"Tine\", \"Mille\", \"Torben\", \"Troels\", \"Søren\"}\n",
    "\n",
    "management = {\"Tine\", \"Trunte\", \"Rane\"}\n",
    "\n",
    "employees = {\"Niels\", \"Anna\", \"Tine\", \"Ole\", \"Trunte\", \"Bent\", \"Rane\", \"Allan\", \"Stine\", \"Claus\", \"James\", \"Lars\"}\n",
    "\n",
    "print(\"Who in the board of directors is not an employee?\", board_of_directors.difference(employees))\n",
    "print(\"Who is both a member of the board of directors and an employee?\", board_of_directors.intersection(employees))\n",
    "print(\"How many of the management is also member of the board?, \", management.intersection(board_of_directors))\n",
    "print(\"All members of the management also an employee?\", management.issubset(employees))\n",
    "print(\"All members of the management also in the board?\", management.issubset(board_of_directors))\n",
    "print(\"Who is an employee, member of the management, and a member of the board?\", employees.intersection(management, board_of_directors))\n",
    "print(\"Who of the employee is neither a memeber or the board or management?\", employees.difference(management, board_of_directors))"
   ]
  },
  {
   "cell_type": "markdown",
   "metadata": {},
   "source": [
    "## 2. Create a list of tuples from the folowing datastructure"
   ]
  },
  {
   "cell_type": "code",
   "execution_count": 130,
   "metadata": {},
   "outputs": [
    {
     "name": "stdout",
     "output_type": "stream",
     "text": [
      "[('a', 'Alpha'), ('b', 'Beta'), ('g', 'Gamma')]\n"
     ]
    }
   ],
   "source": [
    "data = {\"a\": \"Alpha\", \"b\": \"Beta\", \"g\": \"Gamma\"}\n",
    "\n",
    "data_tuple = list(data.items())\n",
    "\n",
    "print(data_tuple)"
   ]
  },
  {
   "cell_type": "markdown",
   "metadata": {},
   "source": [
    "## 3. From these 2 sets: \n",
    "\n",
    "{'a', 'e', 'i', 'o', 'u', 'y'}\n",
    "\n",
    "{'a', 'e', 'i', 'o', 'u', 'y', 'æ' ,'ø', 'å'}\n",
    "\n",
    "Create a:\n",
    "\n",
    "Union\n",
    "\n",
    "Symmetric Difference\n",
    "\n",
    "Difference\n",
    "\n",
    "disjoint\n",
    "\n",
    "You should provide the solutions both using:\n",
    "\n",
    "Set methods ( like: S1.union(S2) or S1.add(x)  ), and\n",
    "Set oprators ( like: S1|S2 or S1&S2)\n",
    "\n",
    "So all solutions has to be solved twice. "
   ]
  },
  {
   "cell_type": "code",
   "execution_count": 131,
   "metadata": {},
   "outputs": [
    {
     "name": "stdout",
     "output_type": "stream",
     "text": [
      "{'ø', 'a', 'o', 'å', 'y', 'u', 'e', 'i', 'æ'}\n",
      "{'ø', 'a', 'o', 'å', 'y', 'u', 'e', 'i', 'æ'}\n",
      "{'ø', 'å', 'æ'}\n",
      "{'ø', 'å', 'æ'}\n",
      "set()\n",
      "set()\n",
      "False\n",
      "{'a', 'o', 'y', 'u', 'e', 'i'}\n"
     ]
    }
   ],
   "source": [
    "Set1 = {'a', 'e', 'i', 'o', 'u', 'y'}\n",
    "Set2 = {'a', 'e', 'i', 'o', 'u', 'y', 'æ' ,'ø', 'å'}\n",
    "\n",
    "union_method = Set1.union(Set2)\n",
    "print(union_method)\n",
    "\n",
    "union_operator = Set1 | Set2\n",
    "print(union_operator)\n",
    "\n",
    "symmetric_difference_method = Set1.symmetric_difference(Set2)\n",
    "print(symmetric_difference_method)\n",
    "\n",
    "symmetric_difference_operator = Set1 ^ Set2\n",
    "print(symmetric_difference_operator)\n",
    "\n",
    "difference_method = Set1.difference(Set2)\n",
    "print(difference_method)\n",
    "\n",
    "difference_operator = Set1 - Set2\n",
    "print(difference_operator)\n",
    "\n",
    "disjoint = Set1.isdisjoint(Set2)\n",
    "print(disjoint)\n",
    "\n",
    "\n",
    "#Note: Udfra billedet i opgaven, så forstår jeg det som om at du vil have det i set1 og set2 som er ens. Men disjoint sammenligner og fortæller om der er IKKE er nogle elementer der er ens. Så hvis der er nogle elementer der er ens, så er det ikke et disjoint. Derfor har jeg lavet et eksempel på et disjoint og et eksempel på et ikke disjoint.\n",
    "#Der findes ingen operator for disjoint\n",
    "\n",
    "#Dette er ikke et disjoint. Den viser de elementer der er ens\n",
    "notDisjoint = Set1 & Set2\n",
    "print(notDisjoint)\n",
    "\n"
   ]
  },
  {
   "cell_type": "markdown",
   "metadata": {},
   "source": [
    "## 4. Date Decoder\n",
    "A date of the form 8-MAR-85 includes the name of the month, which must be translated to a number.\n",
    "Create a dict suitable for decoding month names to numbers.\n",
    "Create a function which uses string operations to split the date into 3 items using the \"-\" character.\n",
    "Translate the month, correct the year to include all of the digits.\n",
    "The function will accept a date in the \"dd-MMM-yy\" format and respond with a tuple of ( y , m , d )."
   ]
  },
  {
   "cell_type": "code",
   "execution_count": 132,
   "metadata": {},
   "outputs": [
    {
     "name": "stdout",
     "output_type": "stream",
     "text": [
      "(1985, 3, 8)\n"
     ]
    }
   ],
   "source": [
    "month_in_numbers = {\"JAN\" : 1, \"FEB\" : 2, \"MAR\" : 3, \"APR\" : 4, \"MAY\" : 5, \"JUN\" : 6, \"JUL\" : 7, \"AUG\" : 8, \"SEP\" : 9, \"OCT\" : 10, \"NOV\" : 11, \"DEC\" : 12}\n",
    "\n",
    "def date_decoder(date):\n",
    "    day, month, year = date.split(\"-\")\n",
    "\n",
    "    month = month_in_numbers[month.upper()]\n",
    "\n",
    "    if 0 <= int(year) <= 21:\n",
    "        year = '20' + year\n",
    "    else:\n",
    "        year = '19' + year\n",
    "\n",
    "        return (int(year), int(month), int(day))\n",
    "\n",
    "date_input = \"8-MAR-85\"\n",
    "print(date_decoder(date_input))"
   ]
  },
  {
   "cell_type": "markdown",
   "metadata": {},
   "source": [
    "## 5. Party exercise\n",
    "You are organizing a party and have two lists of friends. One list contains the friends you have invited, and the other list contains the friends who have RSVP'd.\n",
    "You want to find out who has not RSVP'd, who was not invited but RSVP'd, and who are common in both lists.\n",
    "Task: Write a Python program that takes two sets of names, one set containing the names of friends invited to the party and another set containing the names of friends who have RSVP'd.\n",
    "The program should then print out the names of friends who have not RSVP'd, the names of friends who were not invited but RSVP'd, and the names of friends who are common in both lists (i.e., invited and RSVP'd)."
   ]
  },
  {
   "cell_type": "code",
   "execution_count": 133,
   "metadata": {},
   "outputs": [
    {
     "name": "stdout",
     "output_type": "stream",
     "text": [
      "These friends have not rsvped yet:  {'Mikkel', 'Mads', 'Sofie', 'Ida', 'Freja'}\n",
      "These friends have rsvped but are not invited:  {'Mette', 'Jesper'}\n",
      "These friends have rsvped and are invited:  {'Lukas', 'Andreas', 'Emilie'}\n"
     ]
    }
   ],
   "source": [
    "invited_friends = {\"Mads\", \"Freja\", \"Lukas\", \"Emilie\", \"Andreas\", \"Sofie\", \"Mikkel\", \"Ida\"}\n",
    "rsvped_friends = {\"Emilie\", \"Andreas\", \"Jesper\", \"Mette\", \"Lukas\"}\n",
    "\n",
    "def party_organizer(invited_friends, rsvped_friends):\n",
    "  not_rsvped = invited_friends - rsvped_friends\n",
    "  print(\"These friends have not rsvped yet: \", not_rsvped)\n",
    "\n",
    "  not_invited_but_rsvped = rsvped_friends - invited_friends\n",
    "  print(\"These friends have rsvped but are not invited: \", not_invited_but_rsvped)\n",
    "\n",
    "  rsvped_and_invited = invited_friends.intersection(rsvped_friends)\n",
    "  print(\"These friends have rsvped and are invited: \", rsvped_and_invited)\n",
    "\n",
    "party_organizer(invited_friends, rsvped_friends)"
   ]
  },
  {
   "cell_type": "markdown",
   "metadata": {},
   "source": [
    "## 6.\n",
    "You are a teacher and have a dictionary containing the names of your students as keys and their grades as values.\n",
    "You want to update the grades of some students and then print out the names of all students who have a grade higher than 85.\n",
    "Task: Write a Python program that takes a dictionary of students and their grades, updates the grades of specific students, and then prints out the names of all students who have a grade higher than 85."
   ]
  },
  {
   "cell_type": "code",
   "execution_count": 134,
   "metadata": {},
   "outputs": [
    {
     "name": "stdout",
     "output_type": "stream",
     "text": [
      "{'Lukas': 88, 'Mikkel': 91}\n"
     ]
    }
   ],
   "source": [
    "grades = { \"Freja\": 82, \"Lukas\": 88, \"Mikkel\": 91, \"Emilie\": 81,\"Andreas\": 78}\n",
    "\n",
    "updated_grades = {\"Andreas\" : 85}\n",
    "\n",
    "def update_grades(grades, updated_grades):\n",
    "    grades.update(updated_grades)\n",
    "    above_85 = {name: grade for name, grade in grades.items() if grade > 85}\n",
    "    return above_85\n",
    "\n",
    "print(update_grades(grades, updated_grades))"
   ]
  }
 ],
 "metadata": {
  "kernelspec": {
   "display_name": "Python 3",
   "language": "python",
   "name": "python3"
  },
  "language_info": {
   "codemirror_mode": {
    "name": "ipython",
    "version": 3
   },
   "file_extension": ".py",
   "mimetype": "text/x-python",
   "name": "python",
   "nbconvert_exporter": "python",
   "pygments_lexer": "ipython3",
   "version": "3.11.4"
  },
  "orig_nbformat": 4
 },
 "nbformat": 4,
 "nbformat_minor": 2
}
